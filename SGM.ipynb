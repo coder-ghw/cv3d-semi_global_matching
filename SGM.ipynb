{
 "cells": [
  {
   "cell_type": "code",
   "execution_count": 1,
   "metadata": {},
   "outputs": [],
   "source": [
    "import cv2 as cv\n",
    "import numpy as np\n",
    "import os\n",
    "import sys\n",
    "import matplotlib.pyplot as plt\n"
   ]
  },
  {
   "attachments": {},
   "cell_type": "markdown",
   "metadata": {},
   "source": [
    "# SGM\n",
    "介绍SGM主要的几个步骤，做到简单容易理解,主要的步骤对应c++中的实现\n",
    "* 代价计算\n",
    "* 代价聚合\n",
    "* 视差计算\n",
    "* 后处理"
   ]
  },
  {
   "cell_type": "markdown",
   "metadata": {},
   "source": []
  }
 ],
 "metadata": {
  "kernelspec": {
   "display_name": "base",
   "language": "python",
   "name": "python3"
  },
  "language_info": {
   "codemirror_mode": {
    "name": "ipython",
    "version": 3
   },
   "file_extension": ".py",
   "mimetype": "text/x-python",
   "name": "python",
   "nbconvert_exporter": "python",
   "pygments_lexer": "ipython3",
   "version": "3.9.12"
  },
  "orig_nbformat": 4,
  "vscode": {
   "interpreter": {
    "hash": "8f6d47f28108ff78d165d1dbf5e7de0922f48f0eaa7ad4031150fd72ba65f286"
   }
  }
 },
 "nbformat": 4,
 "nbformat_minor": 2
}
